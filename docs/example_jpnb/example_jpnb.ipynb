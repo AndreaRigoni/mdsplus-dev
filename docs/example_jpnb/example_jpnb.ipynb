{
 "cells": [
  {
   "cell_type": "markdown",
   "metadata": {},
   "source": [
    "# Hello World document\n",
    "\n",
    "The documentation can be atuomatically generate starting from a jupyter notebook. In this case the jupyter environment is called with the module nbconvert that convert the ipynb file into the md text. Please ensure that you have the nbconvert template file in the jupyter data_dir.\n"
   ]
  },
  {
   "cell_type": "code",
   "execution_count": 1,
   "metadata": {},
   "outputs": [],
   "source": [
    "# a block of python code can be tested and documented from the same file.\n",
    "\n",
    "import sys,os"
   ]
  },
  {
   "cell_type": "markdown",
   "metadata": {},
   "source": [
    "For example this code fragment shows the exported environment used by Makefile during setup.\n"
   ]
  },
  {
   "cell_type": "code",
   "execution_count": 2,
   "metadata": {},
   "outputs": [
    {
     "name": "stdout",
     "output_type": "stream",
     "text": [
      ".\n",
      "../..\n",
      "/home/rigoni/autoconf-bootstrap\n",
      ".\n",
      "../..\n",
      "/home/rigoni/autoconf-bootstrap\n"
     ]
    }
   ],
   "source": [
    "print(os.environ['srcdir'])\n",
    "print(os.environ['top_srcdir'])\n",
    "print(os.environ['abs_top_srcdir'])\n",
    "print(os.environ['builddir'])\n",
    "print(os.environ['top_builddir'])\n",
    "print(os.environ['abs_top_builddir'])"
   ]
  },
  {
   "cell_type": "markdown",
   "metadata": {},
   "source": [
    "## example of embedded formula\n",
    "\n",
    "$$ E = m \\cdot c^2 $$\n",
    "\n",
    "\n",
    "```math\n",
    "E = m c^2\n",
    "```"
   ]
  },
  {
   "source": [
    "## example of embedded image\n",
    "\n",
    "![](img/book_cover.jpg)"
   ],
   "cell_type": "markdown",
   "metadata": {}
  }
 ],
 "metadata": {
  "kernelspec": {
   "display_name": "Python 3",
   "language": "python",
   "name": "python3"
  },
  "language_info": {
   "codemirror_mode": {
    "name": "ipython",
    "version": 3
   },
   "file_extension": ".py",
   "mimetype": "text/x-python",
   "name": "python",
   "nbconvert_exporter": "python",
   "pygments_lexer": "ipython3",
   "version": "3.8.2"
  }
 },
 "nbformat": 4,
 "nbformat_minor": 4
}